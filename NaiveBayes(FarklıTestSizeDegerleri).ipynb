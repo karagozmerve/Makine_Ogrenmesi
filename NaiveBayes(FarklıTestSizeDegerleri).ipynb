{
 "cells": [
  {
   "cell_type": "code",
   "execution_count": 1,
   "metadata": {},
   "outputs": [
    {
     "name": "stderr",
     "output_type": "stream",
     "text": [
      "Using TensorFlow backend.\n",
      "C:\\Users\\Merve\\anaconda3\\lib\\site-packages\\tensorflow\\python\\framework\\dtypes.py:526: FutureWarning: Passing (type, 1) or '1type' as a synonym of type is deprecated; in a future version of numpy, it will be understood as (type, (1,)) / '(1,)type'.\n",
      "  _np_qint8 = np.dtype([(\"qint8\", np.int8, 1)])\n",
      "C:\\Users\\Merve\\anaconda3\\lib\\site-packages\\tensorflow\\python\\framework\\dtypes.py:527: FutureWarning: Passing (type, 1) or '1type' as a synonym of type is deprecated; in a future version of numpy, it will be understood as (type, (1,)) / '(1,)type'.\n",
      "  _np_quint8 = np.dtype([(\"quint8\", np.uint8, 1)])\n",
      "C:\\Users\\Merve\\anaconda3\\lib\\site-packages\\tensorflow\\python\\framework\\dtypes.py:528: FutureWarning: Passing (type, 1) or '1type' as a synonym of type is deprecated; in a future version of numpy, it will be understood as (type, (1,)) / '(1,)type'.\n",
      "  _np_qint16 = np.dtype([(\"qint16\", np.int16, 1)])\n",
      "C:\\Users\\Merve\\anaconda3\\lib\\site-packages\\tensorflow\\python\\framework\\dtypes.py:529: FutureWarning: Passing (type, 1) or '1type' as a synonym of type is deprecated; in a future version of numpy, it will be understood as (type, (1,)) / '(1,)type'.\n",
      "  _np_quint16 = np.dtype([(\"quint16\", np.uint16, 1)])\n",
      "C:\\Users\\Merve\\anaconda3\\lib\\site-packages\\tensorflow\\python\\framework\\dtypes.py:530: FutureWarning: Passing (type, 1) or '1type' as a synonym of type is deprecated; in a future version of numpy, it will be understood as (type, (1,)) / '(1,)type'.\n",
      "  _np_qint32 = np.dtype([(\"qint32\", np.int32, 1)])\n",
      "C:\\Users\\Merve\\anaconda3\\lib\\site-packages\\tensorflow\\python\\framework\\dtypes.py:535: FutureWarning: Passing (type, 1) or '1type' as a synonym of type is deprecated; in a future version of numpy, it will be understood as (type, (1,)) / '(1,)type'.\n",
      "  np_resource = np.dtype([(\"resource\", np.ubyte, 1)])\n"
     ]
    },
    {
     "name": "stdout",
     "output_type": "stream",
     "text": [
      "Accuracy Score(Gaussian): 0.9438202247191011\n",
      "Accuracy Score(Multinomial): 0.898876404494382\n",
      "Accuracy Score(Bernoulli): 0.2808988764044944\n"
     ]
    }
   ],
   "source": [
    "import numpy as np \n",
    "import pandas as pd \n",
    "import matplotlib.pyplot as plt\n",
    "import keras\n",
    "import seaborn as sns\n",
    "from sklearn.model_selection import train_test_split\n",
    "from sklearn.naive_bayes import GaussianNB\n",
    "from sklearn.naive_bayes import MultinomialNB\n",
    "from sklearn.naive_bayes import BernoulliNB\n",
    "from sklearn.metrics import accuracy_score\n",
    "from sklearn.metrics import confusion_matrix\n",
    "from sklearn.metrics import classification_report\n",
    "import matplotlib.pyplot as plt\n",
    "import seaborn as sns; sns.set()\n",
    "\n",
    "wine_dataset = pd.read_csv('wine.data',header = None)\n",
    "\n",
    "array = wine_dataset.values\n",
    "X = array[:, 1:]\n",
    "Y = array[:, 0]\n",
    "\n",
    "X_train, X_test, Y_train, Y_test = train_test_split(X, Y, test_size=0.5, random_state=0)\n",
    "\n",
    "gnb = GaussianNB()\n",
    "\n",
    "training_model=gnb.fit(X_train, Y_train)\n",
    "\n",
    "predictions = gnb.predict(X_test)\n",
    "\n",
    "print(\"Accuracy Score(Gaussian):\",accuracy_score(Y_test, predictions))\n",
    "\n",
    "\n",
    "mnb = MultinomialNB()\n",
    "mnb.fit(X_train, Y_train)\n",
    "predictionsmnb = mnb.predict(X_test)\n",
    "\n",
    "print(\"Accuracy Score(Multinomial):\",accuracy_score(Y_test, predictionsmnb))\n",
    "\n",
    "bnb = BernoulliNB()\n",
    "bnb.fit(X_train, Y_train)\n",
    "predictionsbnb = bnb.predict(X_test)\n",
    "\n",
    "print(\"Accuracy Score(Bernoulli):\",accuracy_score(Y_test, predictionsbnb))\n"
   ]
  },
  {
   "cell_type": "code",
   "execution_count": 2,
   "metadata": {},
   "outputs": [
    {
     "name": "stdout",
     "output_type": "stream",
     "text": [
      "Accuracy Score(Gaussian): 0.968\n",
      "Accuracy Score(Multinomial): 0.864\n",
      "Accuracy Score(Bernoulli): 0.416\n"
     ]
    }
   ],
   "source": [
    "import numpy as np \n",
    "import pandas as pd \n",
    "import matplotlib.pyplot as plt\n",
    "import keras\n",
    "import seaborn as sns\n",
    "from sklearn.model_selection import train_test_split\n",
    "from sklearn.naive_bayes import GaussianNB\n",
    "from sklearn.naive_bayes import MultinomialNB\n",
    "from sklearn.naive_bayes import BernoulliNB\n",
    "from sklearn.metrics import accuracy_score\n",
    "from sklearn.metrics import confusion_matrix\n",
    "from sklearn.metrics import classification_report\n",
    "import matplotlib.pyplot as plt\n",
    "import seaborn as sns; sns.set()\n",
    "\n",
    "wine_dataset = pd.read_csv('wine.data',header = None)\n",
    "\n",
    "array = wine_dataset.values\n",
    "X = array[:, 1:]\n",
    "Y = array[:, 0]\n",
    "\n",
    "X_train, X_test, Y_train, Y_test = train_test_split(X, Y, test_size=0.7, random_state=0)\n",
    "\n",
    "gnb = GaussianNB()\n",
    "\n",
    "training_model=gnb.fit(X_train, Y_train)\n",
    "\n",
    "predictions = gnb.predict(X_test)\n",
    "\n",
    "print(\"Accuracy Score(Gaussian):\",accuracy_score(Y_test, predictions))\n",
    "\n",
    "\n",
    "mnb = MultinomialNB()\n",
    "mnb.fit(X_train, Y_train)\n",
    "predictionsmnb = mnb.predict(X_test)\n",
    "\n",
    "print(\"Accuracy Score(Multinomial):\",accuracy_score(Y_test, predictionsmnb))\n",
    "\n",
    "bnb = BernoulliNB()\n",
    "bnb.fit(X_train, Y_train)\n",
    "predictionsbnb = bnb.predict(X_test)\n",
    "\n",
    "print(\"Accuracy Score(Bernoulli):\",accuracy_score(Y_test, predictionsbnb))\n"
   ]
  },
  {
   "cell_type": "code",
   "execution_count": null,
   "metadata": {},
   "outputs": [],
   "source": []
  }
 ],
 "metadata": {
  "kernelspec": {
   "display_name": "Python 3",
   "language": "python",
   "name": "python3"
  },
  "language_info": {
   "codemirror_mode": {
    "name": "ipython",
    "version": 3
   },
   "file_extension": ".py",
   "mimetype": "text/x-python",
   "name": "python",
   "nbconvert_exporter": "python",
   "pygments_lexer": "ipython3",
   "version": "3.7.6"
  }
 },
 "nbformat": 4,
 "nbformat_minor": 4
}
